{
 "cells": [
  {
   "cell_type": "markdown",
   "metadata": {},
   "source": [
    "## 8.5 Homework\n",
    "\n",
    "Choose of the following project.\n",
    "Write your own program for linear curve fitting\n",
    "Choose some data in your research project to do the curve fitting\n",
    "From now on, you must present your work in your github page."
   ]
  },
  {
   "cell_type": "markdown",
   "metadata": {},
   "source": [
    "The data used was my visibility data from Dr. Sheltons advanced lab holography experiment. \n",
    "\n",
    "What we did was take two interference patterns made from the same HeNe laser passed through a Michelson interferometer and measured the visibility (Viz= I_max-I_min/I_max+I_min). The intensity of the fringes were measured using a photo diode."
   ]
  },
  {
   "cell_type": "code",
   "execution_count": 24,
   "metadata": {},
   "outputs": [
    {
     "name": "stdout",
     "output_type": "stream",
     "text": [
      "        Vis    cm\n",
      "0  0.750000  24.0\n",
      "1  0.531250  26.0\n",
      "2  0.303030  28.0\n",
      "3  0.242424  29.0\n",
      "4  0.181818  29.5\n",
      "5  0.107143  30.0\n",
      "6  0.068966  31.5\n",
      "7  0.033333  32.0\n"
     ]
    },
    {
     "data": {
      "image/png": "[encoded data removed]",
      "text/plain": [
       "<matplotlib.figure.Figure at 0xee4d470>"
      ]
     },
     "metadata": {},
     "output_type": "display_data"
    },
    {
     "name": "stdout",
     "output_type": "stream",
     "text": [
      "original coefficients:  0.500,  3.000\n",
      "fitted   coefficients:  0.091,  2.883\n"
     ]
    }
   ],
   "source": [
    "import numpy as np\n",
    "import matplotlib.pyplot as plt\n",
    "import scipy.optimize as sc\n",
    "import pandas as pd\n",
    "\n",
    "\n",
    "data = np.loadtxt(\"C:/Users/Admin/Desktop/visibility.txt\",float)\n",
    "\n",
    "x = data[:,0]\n",
    "y = data[:,1]\n",
    "\n",
    "d = {'cm': x, 'Vis': y}\n",
    "\n",
    "df = pd.DataFrame(data=d)\n",
    "print(df)\n",
    "\n",
    "f = lambda x,a,c: a*(-x)+c \n",
    "\n",
    "x_min, x_max = 22, 34\n",
    "a,c = 1/2, 3\n",
    "\n",
    "params, extras = sc.curve_fit(f, x, y)\n",
    "\n",
    "plt.scatter(x,y)\n",
    "plt.plot(x,f(x,params[0],params[1]))\n",
    "\n",
    "plt.xlabel(\"Path Lentght Difference (cm)\")\n",
    "plt.ylabel(\"Visibility\")\n",
    "plt.xlim(22,34)\n",
    "plt.ylim(-0.5,1)\n",
    "plt.show()\n",
    "\n",
    "print('original coefficients: %6.3f, %6.3f' %(a,c))\n",
    "print('fitted   coefficients: %6.3f, %6.3f' %(params[0], params[1]))"
   ]
  },
  {
   "cell_type": "code",
   "execution_count": null,
   "metadata": {
    "collapsed": true
   },
   "outputs": [],
   "source": []
  }
 ],
 "metadata": {
  "kernelspec": {
   "display_name": "Python 3",
   "language": "python",
   "name": "python3"
  },
  "language_info": {
   "codemirror_mode": {
    "name": "ipython",
    "version": 3
   },
   "file_extension": ".py",
   "mimetype": "text/x-python",
   "name": "python",
   "nbconvert_exporter": "python",
   "pygments_lexer": "ipython3",
   "version": "3.6.1"
  }
 },
 "nbformat": 4,
 "nbformat_minor": 2
}
