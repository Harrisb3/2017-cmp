{
 "cells": [
  {
   "cell_type": "code",
   "execution_count": null,
   "metadata": {
    "collapsed": true
   },
   "outputs": [],
   "source": [
    "14.4 Homework¶\n",
    "Calculate a value for the integral\n",
    "I=∫10x−1/2ex+1dx\n",
    "I=∫01x−1/2ex+1dx\n",
    "using the importance sampling method with w(x)=x−1/2w(x)=x−1/2, with 1,000,000 random points."
   ]
  },
  {
   "cell_type": "code",
   "execution_count": 1,
   "metadata": {},
   "outputs": [
    {
     "name": "stderr",
     "output_type": "stream",
     "text": [
      "C:\\ProgramData\\Anaconda3\\lib\\site-packages\\ipykernel_launcher.py:15: RuntimeWarning: divide by zero encountered in true_divide\n",
      "  from ipykernel import kernelapp as app\n"
     ]
    },
    {
     "data": {
      "image/png": "[encoded data removed]",
      "text/plain": [
       "<matplotlib.figure.Figure at 0x16cfc75fd30>"
      ]
     },
     "metadata": {},
     "output_type": "display_data"
    },
    {
     "name": "stdout",
     "output_type": "stream",
     "text": [
      "I:  0.838984644926\n"
     ]
    }
   ],
   "source": [
    "#Import the stuff\n",
    "import numpy as np\n",
    "import matplotlib.pyplot as plt\n",
    "import random as rd\n",
    "\n",
    "#define parameters for calculation\n",
    "x = np.linspace(0,1,100)\n",
    "\n",
    "N = 1000000\n",
    "X = np.random.uniform(size=N)\n",
    "W = X**2\n",
    "\n",
    "#Define and plot functions\n",
    "def f(x):\n",
    "    return 1/np.sqrt(x)/(np.exp(x)+1)\n",
    "plt.plot(f(x))\n",
    "plt.show()\n",
    "\n",
    "def f(W):\n",
    "    return 1/(np.exp(W)+1)\n",
    "\n",
    "#calculate I\n",
    "I = (1/N)*sum(f(W))*2\n",
    "\n",
    "#print result\n",
    "print (\"I: \",I)"
   ]
  },
  {
   "cell_type": "code",
   "execution_count": null,
   "metadata": {
    "collapsed": true
   },
   "outputs": [],
   "source": []
  }
 ],
 "metadata": {
  "kernelspec": {
   "display_name": "Python 3",
   "language": "python",
   "name": "python3"
  },
  "language_info": {
   "codemirror_mode": {
    "name": "ipython",
    "version": 3
   },
   "file_extension": ".py",
   "mimetype": "text/x-python",
   "name": "python",
   "nbconvert_exporter": "python",
   "pygments_lexer": "ipython3",
   "version": "3.6.1"
  }
 },
 "nbformat": 4,
 "nbformat_minor": 2
}
