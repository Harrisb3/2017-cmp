{
 "cells": [
  {
   "cell_type": "markdown",
   "metadata": {},
   "source": [
    "8.5 Homework\n",
    "\n",
    "Choose of the following project. \n",
    "- Write your own program for linear curve fitting\n",
    "- Choose some data in your research project to do the curve fitting\n",
    "\n",
    "_From now on, you must present your work in your github page._"
   ]
  },
  {
   "cell_type": "code",
   "execution_count": 48,
   "metadata": {},
   "outputs": [
    {
     "data": {
      "image/png": "[encoded data removed]",
      "text/plain": [
       "<matplotlib.figure.Figure at 0x20d6619fe10>"
      ]
     },
     "metadata": {},
     "output_type": "display_data"
    },
    {
     "name": "stdout",
     "output_type": "stream",
     "text": [
      "fitted coefficients [ 0.12437371 -0.89177066  3.11436794 -3.56633223  3.08549243  0.81428182]\n"
     ]
    }
   ],
   "source": [
    "import matplotlib.pyplot as plt\n",
    "import numpy as np\n",
    "\n",
    "#define the function\n",
    "#I couldn't find data so I made it\n",
    "f = lambda x: 2.71828**x  \n",
    "\n",
    "#Defines 100 evenly spaced points along f. It also varies the y value a little.\n",
    "#This makes noisy data.\n",
    "x = np.linspace(a,b,100)\n",
    "y = f(x) + np.random.rand(npoints)-0.5\n",
    "\n",
    "#Uses the numpy Polyfit function to fit the noisy data.\n",
    "#This fits a polynomial to the data.\n",
    "#The polynomial is a 5th degree polyomial.\n",
    "\n",
    "fit = np.polyfit(x,y,5)\n",
    "\n",
    "\n",
    "#plt.plot(x,f(x), label='ideal function')\n",
    "plt.plot(x,y, 'o', label='noisy data')\n",
    "plt.plot(x,y_p, label='polyfit')\n",
    "plt.xlim(0, 5)\n",
    "plt.ylim(-5,25)\n",
    "\n",
    "#Lables the graph and shows the legend in the graph\n",
    "plt.xlabel('x')\n",
    "plt.ylabel('$f(x)$')\n",
    "plt.xlim([a,b])\n",
    "plt.legend()\n",
    "plt.show()\n",
    "\n",
    "#Shows the coefficents of the fit.\n",
    "print('fitted coefficients',fit)"
   ]
  },
  {
   "cell_type": "code",
   "execution_count": null,
   "metadata": {
    "collapsed": true
   },
   "outputs": [],
   "source": []
  }
 ],
 "metadata": {
  "kernelspec": {
   "display_name": "Python 3",
   "language": "python",
   "name": "python3"
  },
  "language_info": {
   "codemirror_mode": {
    "name": "ipython",
    "version": 3
   },
   "file_extension": ".py",
   "mimetype": "text/x-python",
   "name": "python",
   "nbconvert_exporter": "python",
   "pygments_lexer": "ipython3",
   "version": "3.6.1"
  }
 },
 "nbformat": 4,
 "nbformat_minor": 2
}
