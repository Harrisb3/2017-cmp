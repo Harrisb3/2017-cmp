{
 "cells": [
  {
   "cell_type": "markdown",
   "metadata": {},
   "source": [
    "## 21.6 Project\n",
    "### Basin Hopping Algorithm\n",
    "Basin-hopping is a stochastic algorithm which attempts to find the global minimum of a smooth scalar function of one or more variables. The algorithm in its current form was described by David Wales and Jonathan Doye.\n",
    "http://www-wales.ch.cam.ac.uk/.\n",
    "\n",
    "The method has been descibed in the following two papers\n",
    "- http://pubs.acs.org/doi/pdf/10.1021/jp970984n\n",
    "- http://science.sciencemag.org/content/271/5248/484\n",
    "\n",
    "It has been implemented in scipy. To use it, one just need to do the following.\n",
    "\n",
    "```python\n",
    "from scipy.optimize import basinhopping\n",
    "\n",
    "N_atom = 12\n",
    "pos = init_pos(N_atom)\n",
    "res = basinhopping(total_energy, pos, niter=50, T=2.0, stepsize=3.0, disp=True)\n",
    "```\n",
    "\n",
    "The algorithm is very easy to implement. Here is another example.\n",
    "- https://gitlab.com/ase/ase/blob/master/ase/optimize/basin.py\n",
    "\n",
    "### Due by Nov. 28, 2017\n",
    "\n",
    "Please use basin hopping method to find all the ground states for LJ clusters for (N=10-20).\n",
    "\n",
    "Try to \n",
    "- 1, write down the priciples of basin hopping algorithm\n",
    "- 2, choose three numbers bewteen 10 - 20\n",
    "- 3, find the parameters which could lead to the global minimum.\n",
    "- 4, plot the energy evolutions as a function of steps.\n",
    "\n",
    "\n",
    "Extra\n",
    "- visulatization of energy landscape: http://pele-python.github.io/pele/#"
   ]
  },
  {
   "cell_type": "markdown",
   "metadata": {
    "collapsed": true
   },
   "source": [
    "**Basin Hopping**\n",
    "\n",
    "Basin Hopping is a global optimization algorithm used to find the global minimum of a function.  It is an iterative process that takes the potential and turns it into a series of steps. From there it perturbs the initial coordinates and finds a local minimum value. The value of the local minimum is then accepted or rejected using various methods, though the one used in scipy is the Metropolis criterion of the standard Monte Carlo algorithms(a). This method has been used with great success on problems in physics and chemistry.  In its current form, the algorithm was described by David Wales and Jonathan Doye(b)."
   ]
  },
  {
   "cell_type": "markdown",
   "metadata": {},
   "source": [
    "To apply this to the Lennard jones potential function, we need to first need to define the Lennard Jones potential function and compute the total energy, E, and the atomic positions."
   ]
  },
  {
   "cell_type": "code",
   "execution_count": null,
   "metadata": {
    "collapsed": true
   },
   "outputs": [],
   "source": [
    "import numpy as np\n",
    "\n",
    "def LJ(r):\n",
    "    r6 = r**6\n",
    "    r12 = r6*r6\n",
    "    return 4*(1/r12-1/r6)\n",
    "\n",
    "def total_energy(positions):\n",
    "    E=0\n",
    "    N_atom = int(len(positions/3))\n",
    "    for i in range(N_atom-1):\n",
    "        for j in range(i+1, N_atom):\n",
    "            pos1 = positions[i*3:(i+1)*3]\n",
    "            pos2 = positions[j*3:(j+1)*3]\n",
    "            dist = np.linalg.norm(pos1-pos2)\n",
    "            E += LJ(dist)\n",
    "    return E\n",
    "            \n",
    "def init_pos(N, L=5):\n",
    "    return L*np.random.random_sample((N*3,))"
   ]
  },
  {
   "cell_type": "markdown",
   "metadata": {
    "collapsed": true
   },
   "source": [
    "Then we can alter this code to inclue a generalized basin hopping aglorithm from scipy."
   ]
  },
  {
   "cell_type": "code",
   "execution_count": null,
   "metadata": {
    "collapsed": true
   },
   "outputs": [],
   "source": [
    "import numpy as np\n",
    "#first we need to import the package that contains basin hopping\n",
    "from scipy.optimize import basinhopping\n",
    "\n",
    "\n",
    "def LJ(r):\n",
    "    r6 = r**6\n",
    "    r12 = r6*r6\n",
    "    return 4*(1/r12-1/r6)\n",
    "\n",
    "def total_energy(positions):\n",
    "    E=0\n",
    "    N_atom = int(len(positions/3))\n",
    "    for i in range(N_atom-1):\n",
    "        for j in range(i+1, N_atom):\n",
    "            pos1 = positions[i*3:(i+1)*3]\n",
    "            pos2 = positions[j*3:(j+1)*3]\n",
    "            dist = np.linalg.norm(pos1-pos2)\n",
    "            E += LJ(dist)\n",
    "    return E\n",
    "            \n",
    "def init_pos(N, L=5):\n",
    "    return L*np.random.random_sample((N*3,))\n",
    "\n",
    "#Relevant code for basin hopping with out parameters\n",
    "N_atom = \n",
    "pos = init_pos\n",
    "res = sy.basinhopping(total_energy, pos, niter=, T=, stepsize=, disp=True)"
   ]
  },
  {
   "cell_type": "markdown",
   "metadata": {},
   "source": [
    "The dependent parameter total _energy, pos, niter=, T=, stepsize=, and disp=True, all have specific functions in the algorithm. The first two are functions defined previously in the code. The next three are arguments that must be adjusted to obtain the correct minimum. \n",
    "\n",
    "Their functions are as follows:\n",
    "\n",
    "1- niter= Sets the number of iterations to be attempted\n",
    "\n",
    "2- T= temperature. This sets the acceptable jump size that will be accepted.\n",
    "\n",
    "3- stepsize= This dictates the x axis travel for each iteration. \n",
    "\n",
    "Let us run the code for three instances with the number of atoms between 10 - 20.\n",
    "\n",
    "First we will attempt N_atom=12.\n"
   ]
  },
  {
   "cell_type": "code",
   "execution_count": 40,
   "metadata": {},
   "outputs": [
    {
     "name": "stdout",
     "output_type": "stream",
     "text": [
      "warning: basinhopping: local minimization failure\n",
      "basinhopping step 0: f -37.9676\n",
      "warning: basinhopping: local minimization failure\n",
      "basinhopping step 1: f -37.9676 trial_f -35.172 accepted 0  lowest_f -37.9676\n",
      "warning: basinhopping: local minimization failure\n",
      "basinhopping step 2: f -37.9676 trial_f -35.3526 accepted 0  lowest_f -37.9676\n",
      "warning: basinhopping: local minimization failure\n",
      "basinhopping step 3: f -37.9676 trial_f -33.2376 accepted 0  lowest_f -37.9676\n",
      "warning: basinhopping: local minimization failure\n",
      "basinhopping step 4: f -36.243 trial_f -36.243 accepted 1  lowest_f -37.9676\n",
      "warning: basinhopping: local minimization failure\n",
      "basinhopping step 5: f -36.243 trial_f -34.5967 accepted 0  lowest_f -37.9676\n",
      "warning: basinhopping: local minimization failure\n",
      "basinhopping step 6: f -36.243 trial_f -35.394 accepted 0  lowest_f -37.9676\n",
      "warning: basinhopping: local minimization failure\n",
      "basinhopping step 7: f -36.243 trial_f -34.9517 accepted 0  lowest_f -37.9676\n",
      "basinhopping step 8: f -36.243 trial_f -34.4597 accepted 0  lowest_f -37.9676\n",
      "warning: basinhopping: local minimization failure\n",
      "basinhopping step 9: f -35.3181 trial_f -35.3181 accepted 1  lowest_f -37.9676\n",
      "warning: basinhopping: local minimization failure\n",
      "basinhopping step 10: f -35.172 trial_f -35.172 accepted 1  lowest_f -37.9676\n",
      "warning: basinhopping: local minimization failure\n",
      "basinhopping step 11: f -36.3471 trial_f -36.3471 accepted 1  lowest_f -37.9676\n",
      "basinhopping step 12: f -34.8456 trial_f -34.8456 accepted 1  lowest_f -37.9676\n",
      "warning: basinhopping: local minimization failure\n",
      "basinhopping step 13: f -37.9676 trial_f -37.9676 accepted 1  lowest_f -37.9676\n",
      "found new global minimum on step 13 with function value -37.9676\n",
      "warning: basinhopping: local minimization failure\n",
      "basinhopping step 14: f -37.9676 trial_f -33.1857 accepted 0  lowest_f -37.9676\n",
      "warning: basinhopping: local minimization failure\n",
      "basinhopping step 15: f -37.9676 trial_f -34.2157 accepted 0  lowest_f -37.9676\n",
      "basinhopping step 16: f -37.9676 trial_f -34.0931 accepted 0  lowest_f -37.9676\n",
      "warning: basinhopping: local minimization failure\n",
      "basinhopping step 17: f -37.9676 trial_f -36.2532 accepted 0  lowest_f -37.9676\n",
      "warning: basinhopping: local minimization failure\n",
      "basinhopping step 18: f -37.9676 trial_f -36.243 accepted 0  lowest_f -37.9676\n",
      "basinhopping step 19: f -37.9676 trial_f -12.3029 accepted 0  lowest_f -37.9676\n",
      "warning: basinhopping: local minimization failure\n",
      "basinhopping step 20: f -37.9676 trial_f -34.3645 accepted 0  lowest_f -37.9676\n",
      "warning: basinhopping: local minimization failure\n",
      "basinhopping step 21: f -37.9676 trial_f -35.3526 accepted 0  lowest_f -37.9676\n",
      "basinhopping step 22: f -37.9676 trial_f -26.4429 accepted 0  lowest_f -37.9676\n",
      "basinhopping step 23: f -36.087 trial_f -36.087 accepted 1  lowest_f -37.9676\n",
      "warning: basinhopping: local minimization failure\n",
      "basinhopping step 24: f -36.087 trial_f -34.7671 accepted 0  lowest_f -37.9676\n",
      "warning: basinhopping: local minimization failure\n",
      "basinhopping step 25: f -36.087 trial_f -24.1134 accepted 0  lowest_f -37.9676\n",
      "basinhopping step 26: f -34.1883 trial_f -34.1883 accepted 1  lowest_f -37.9676\n",
      "basinhopping step 27: f -34.3172 trial_f -34.3172 accepted 1  lowest_f -37.9676\n",
      "warning: basinhopping: local minimization failure\n",
      "basinhopping step 28: f -35.394 trial_f -35.394 accepted 1  lowest_f -37.9676\n",
      "warning: basinhopping: local minimization failure\n",
      "basinhopping step 29: f -35.394 trial_f -33.8607 accepted 0  lowest_f -37.9676\n",
      "warning: basinhopping: local minimization failure\n",
      "basinhopping step 30: f -35.394 trial_f -33.8625 accepted 0  lowest_f -37.9676\n"
     ]
    }
   ],
   "source": [
    "import numpy as np\n",
    "#first we need to import the package that contains basin hopping\n",
    "from scipy.optimize import basinhopping\n",
    "\n",
    "def LJ(r):\n",
    "    r6 = r**6\n",
    "    r12 = r6*r6\n",
    "    return 4*(1/r12 - 1/r6)\n",
    "\n",
    "\n",
    "\n",
    "def total_energy(positions):\n",
    "    E = 0\n",
    "    N_atom = int(len(positions)/3)\n",
    "    for i in range(N_atom-1):\n",
    "        for j in range(i+1, N_atom):\n",
    "            pos1 = positions[i*3:(i+1)*3]\n",
    "            pos2 = positions[j*3:(j+1)*3]\n",
    "            dist = np.linalg.norm(pos1-pos2)\n",
    "            E += LJ(dist)\n",
    "    return E\n",
    "            \n",
    "def init_pos(N, L=5):\n",
    "    return L*np.random.random_sample((N*3,))\n",
    "\n",
    "N_atom = 12\n",
    "pos = init_pos(N_atom)\n",
    "res = basinhopping(total_energy, pos, niter=30, T=1.5, stepsize=3.0, disp=True)"
   ]
  },
  {
   "cell_type": "code",
   "execution_count": 42,
   "metadata": {},
   "outputs": [
    {
     "data": {
      "image/png": "[encoded data removed]",
      "text/plain": [
       "<matplotlib.figure.Figure at 0x1e53ca058d0>"
      ]
     },
     "metadata": {},
     "output_type": "display_data"
    }
   ],
   "source": [
    "import matplotlib.pyplot as plt\n",
    "\n",
    "x = [3, 6, 9, 12, 15, 18, 21, 24, 27, 30, 33, 36, 39, 42, 45, 48, 51, 54, 57, 60, 63, 66, 69, 72, 75, 78, 81, 84, 87, 90]\n",
    "y = [-37.9676, -37.9676, -37.9676, -37.9676, -37.9676, -37.9676, -37.9676, -37.9676, -37.9676, -37.9676, -37.9676, -37.9676, -37.9676, -37.9676, -37.9676, -37.9676, -37.9676, -37.9676, -37.9676, -37.9676, -37.9676, -37.9676, -37.9676, -37.9676, -37.9676, -37.9676, -37.9676, -37.9676, -37.9676, -37.9676]\n",
    "\n",
    "plt.plot(x, y)\n",
    "plt.xlabel('Iterations')\n",
    "plt.ylabel('Energy')\n",
    "plt.title('Basin-Hopping Energy Minimums')\n",
    "plt.show()"
   ]
  },
  {
   "cell_type": "markdown",
   "metadata": {},
   "source": [
    "This one found the minimum right away. It closely matches the cambridge cluster database value of -37.967600.\n",
    "\n",
    "Now for N_atom=13"
   ]
  },
  {
   "cell_type": "code",
   "execution_count": 29,
   "metadata": {},
   "outputs": [
    {
     "name": "stdout",
     "output_type": "stream",
     "text": [
      "warning: basinhopping: local minimization failure\n",
      "basinhopping step 0: f -37.2932\n",
      "warning: basinhopping: local minimization failure\n",
      "basinhopping step 1: f -37.2932 trial_f -30.6055 accepted 0  lowest_f -37.2932\n",
      "warning: basinhopping: local minimization failure\n",
      "basinhopping step 2: f -40.7585 trial_f -40.7585 accepted 1  lowest_f -40.7585\n",
      "found new global minimum on step 2 with function value -40.7585\n",
      "warning: basinhopping: local minimization failure\n",
      "basinhopping step 3: f -39.8383 trial_f -39.8383 accepted 1  lowest_f -40.7585\n",
      "warning: basinhopping: local minimization failure\n",
      "basinhopping step 4: f -39.7008 trial_f -39.7008 accepted 1  lowest_f -40.7585\n",
      "warning: basinhopping: local minimization failure\n",
      "basinhopping step 5: f -39.7008 trial_f -38.3027 accepted 0  lowest_f -40.7585\n",
      "warning: basinhopping: local minimization failure\n",
      "basinhopping step 6: f -44.3268 trial_f -44.3268 accepted 1  lowest_f -44.3268\n",
      "found new global minimum on step 6 with function value -44.3268\n",
      "warning: basinhopping: local minimization failure\n",
      "basinhopping step 7: f -44.3268 trial_f -40.6738 accepted 0  lowest_f -44.3268\n",
      "warning: basinhopping: local minimization failure\n",
      "basinhopping step 8: f -44.3268 trial_f -38.2541 accepted 0  lowest_f -44.3268\n",
      "basinhopping step 9: f -44.3268 trial_f -39.2296 accepted 0  lowest_f -44.3268\n",
      "warning: basinhopping: local minimization failure\n",
      "basinhopping step 10: f -39.7059 trial_f -39.7059 accepted 1  lowest_f -44.3268\n",
      "warning: basinhopping: local minimization failure\n",
      "basinhopping step 11: f -39.7059 trial_f -36.5246 accepted 0  lowest_f -44.3268\n",
      "warning: basinhopping: local minimization failure\n",
      "basinhopping step 12: f -39.7059 trial_f -38.1039 accepted 0  lowest_f -44.3268\n",
      "warning: basinhopping: local minimization failure\n",
      "basinhopping step 13: f -39.7059 trial_f -31.7752 accepted 0  lowest_f -44.3268\n",
      "warning: basinhopping: local minimization failure\n",
      "basinhopping step 14: f -39.5296 trial_f -39.5296 accepted 1  lowest_f -44.3268\n",
      "warning: basinhopping: local minimization failure\n",
      "basinhopping step 15: f -39.7171 trial_f -39.7171 accepted 1  lowest_f -44.3268\n",
      "basinhopping step 16: f -39.7171 trial_f -37.4547 accepted 0  lowest_f -44.3268\n",
      "warning: basinhopping: local minimization failure\n",
      "basinhopping step 17: f -39.7171 trial_f -37.4547 accepted 0  lowest_f -44.3268\n",
      "warning: basinhopping: local minimization failure\n",
      "basinhopping step 18: f -39.7171 trial_f -37.7233 accepted 0  lowest_f -44.3268\n",
      "basinhopping step 19: f -41.3944 trial_f -41.3944 accepted 1  lowest_f -44.3268\n",
      "warning: basinhopping: local minimization failure\n",
      "basinhopping step 20: f -41.3944 trial_f -38.7449 accepted 0  lowest_f -44.3268\n",
      "basinhopping step 21: f -41.3944 trial_f -30.8515 accepted 0  lowest_f -44.3268\n",
      "warning: basinhopping: local minimization failure\n",
      "basinhopping step 22: f -41.3944 trial_f -37.2907 accepted 0  lowest_f -44.3268\n",
      "warning: basinhopping: local minimization failure\n",
      "basinhopping step 23: f -41.3944 trial_f -38.7108 accepted 0  lowest_f -44.3268\n",
      "warning: basinhopping: local minimization failure\n",
      "basinhopping step 24: f -39.6251 trial_f -39.6251 accepted 1  lowest_f -44.3268\n",
      "warning: basinhopping: local minimization failure\n",
      "basinhopping step 25: f -39.6251 trial_f -37.8365 accepted 0  lowest_f -44.3268\n",
      "warning: basinhopping: local minimization failure\n",
      "basinhopping step 26: f -41.4446 trial_f -41.4446 accepted 1  lowest_f -44.3268\n",
      "basinhopping step 27: f -41.4446 trial_f -39.6369 accepted 0  lowest_f -44.3268\n",
      "basinhopping step 28: f -41.4446 trial_f -15.5331 accepted 0  lowest_f -44.3268\n",
      "warning: basinhopping: local minimization failure\n",
      "basinhopping step 29: f -41.4446 trial_f -37.2574 accepted 0  lowest_f -44.3268\n",
      "warning: basinhopping: local minimization failure\n",
      "basinhopping step 30: f -41.4446 trial_f -36.3847 accepted 0  lowest_f -44.3268\n"
     ]
    }
   ],
   "source": [
    "import numpy as np\n",
    "#first we need to import the package that contains basin hopping\n",
    "from scipy.optimize import basinhopping\n",
    "\n",
    "def LJ(r):\n",
    "    r6 = r**6\n",
    "    r12 = r6*r6\n",
    "    return 4*(1/r12 - 1/r6)\n",
    "\n",
    "\n",
    "\n",
    "def total_energy(positions):\n",
    "    E = 0\n",
    "    N_atom = int(len(positions)/3)\n",
    "    for i in range(N_atom-1):\n",
    "        for j in range(i+1, N_atom):\n",
    "            pos1 = positions[i*3:(i+1)*3]\n",
    "            pos2 = positions[j*3:(j+1)*3]\n",
    "            dist = np.linalg.norm(pos1-pos2)\n",
    "            E += LJ(dist)\n",
    "    return E\n",
    "            \n",
    "def init_pos(N, L=5):\n",
    "    return L*np.random.random_sample((N*3,))\n",
    "\n",
    "N_atom = 13\n",
    "pos = init_pos(N_atom)\n",
    "res = basinhopping(total_energy, pos, niter=30, T=1.5, stepsize=3.0, disp=True)"
   ]
  },
  {
   "cell_type": "code",
   "execution_count": 38,
   "metadata": {},
   "outputs": [
    {
     "data": {
      "image/png": "[encoded data removed]",
      "text/plain": [
       "<matplotlib.figure.Figure at 0x1e539b26400>"
      ]
     },
     "metadata": {},
     "output_type": "display_data"
    }
   ],
   "source": [
    "import matplotlib.pyplot as plt\n",
    "\n",
    "x = [3, 6, 9, 12, 15, 18, 21, 24, 27, 30, 33, 36, 39, 42, 45, 48, 51, 54, 57, 60, 63, 66, 69, 72, 75, 78, 81, 84, 87, 90]\n",
    "y = [-37.2932, -40.7585, -40.7585, -40.7585, -40.7585, -44.3268, -44.3268, -44.3268, -44.3268, -44.3268, -44.3268, -44.3268, -44.3268, -44.3268, -44.3268, -44.3268, -44.3268, -44.3268, -44.3268, -44.3268, -44.3268, -44.3268, -44.3268, -44.3268, -44.3268, -44.3268, -44.3268, -44.3268, -44.3268, -44.3268]\n",
    "\n",
    "plt.plot(x, y)\n",
    "plt.xlabel('Iterations')\n",
    "plt.ylabel('Energy')\n",
    "plt.title('Basin-Hopping Energy Minimums')\n",
    "plt.show()"
   ]
  },
  {
   "cell_type": "markdown",
   "metadata": {},
   "source": [
    "This closely matches the Cambridge cluster database value of -44.326801.\n",
    "\n",
    "Now, For N_atom=14:"
   ]
  },
  {
   "cell_type": "code",
   "execution_count": 43,
   "metadata": {},
   "outputs": [
    {
     "name": "stdout",
     "output_type": "stream",
     "text": [
      "warning: basinhopping: local minimization failure\n",
      "basinhopping step 0: f -44.9546\n",
      "warning: basinhopping: local minimization failure\n",
      "basinhopping step 1: f -44.9546 trial_f -30.9023 accepted 0  lowest_f -44.9546\n",
      "warning: basinhopping: local minimization failure\n",
      "basinhopping step 2: f -44.9546 trial_f -43.0378 accepted 0  lowest_f -44.9546\n",
      "warning: basinhopping: local minimization failure\n",
      "basinhopping step 3: f -44.9546 trial_f -42.1588 accepted 0  lowest_f -44.9546\n",
      "warning: basinhopping: local minimization failure\n",
      "basinhopping step 4: f -44.9546 trial_f -38.0383 accepted 0  lowest_f -44.9546\n",
      "warning: basinhopping: local minimization failure\n",
      "basinhopping step 5: f -44.9546 trial_f -43.2582 accepted 0  lowest_f -44.9546\n",
      "warning: basinhopping: local minimization failure\n",
      "basinhopping step 6: f -44.9546 trial_f -42.1461 accepted 0  lowest_f -44.9546\n",
      "warning: basinhopping: local minimization failure\n",
      "basinhopping step 7: f -47.8452 trial_f -47.8452 accepted 1  lowest_f -47.8452\n",
      "found new global minimum on step 7 with function value -47.8452\n",
      "warning: basinhopping: local minimization failure\n",
      "basinhopping step 8: f -47.8452 trial_f -43.9457 accepted 0  lowest_f -47.8452\n",
      "warning: basinhopping: local minimization failure\n",
      "basinhopping step 9: f -47.8452 trial_f -43.1629 accepted 0  lowest_f -47.8452\n",
      "basinhopping step 10: f -47.8452 trial_f -42.0052 accepted 0  lowest_f -47.8452\n",
      "warning: basinhopping: local minimization failure\n",
      "basinhopping step 11: f -47.8452 trial_f -43.0859 accepted 0  lowest_f -47.8452\n",
      "warning: basinhopping: local minimization failure\n",
      "basinhopping step 12: f -47.8452 trial_f -42.2589 accepted 0  lowest_f -47.8452\n",
      "warning: basinhopping: local minimization failure\n",
      "basinhopping step 13: f -45.0523 trial_f -45.0523 accepted 1  lowest_f -47.8452\n",
      "warning: basinhopping: local minimization failure\n",
      "basinhopping step 14: f -43.8069 trial_f -43.8069 accepted 1  lowest_f -47.8452\n",
      "warning: basinhopping: local minimization failure\n",
      "basinhopping step 15: f -44.9013 trial_f -44.9013 accepted 1  lowest_f -47.8452\n",
      "warning: basinhopping: local minimization failure\n",
      "basinhopping step 16: f -44.9013 trial_f -43.8069 accepted 0  lowest_f -47.8452\n",
      "warning: basinhopping: local minimization failure\n",
      "basinhopping step 17: f -44.9013 trial_f -30.4072 accepted 0  lowest_f -47.8452\n",
      "warning: basinhopping: local minimization failure\n",
      "basinhopping step 18: f -47.8452 trial_f -47.8452 accepted 1  lowest_f -47.8452\n",
      "found new global minimum on step 18 with function value -47.8452\n",
      "warning: basinhopping: local minimization failure\n",
      "basinhopping step 19: f -47.8452 trial_f -43.9986 accepted 0  lowest_f -47.8452\n",
      "warning: basinhopping: local minimization failure\n",
      "basinhopping step 20: f -47.8452 trial_f -44.1921 accepted 0  lowest_f -47.8452\n",
      "warning: basinhopping: local minimization failure\n",
      "basinhopping step 21: f -47.8452 trial_f -42.009 accepted 0  lowest_f -47.8452\n",
      "warning: basinhopping: local minimization failure\n",
      "basinhopping step 22: f -47.8452 trial_f -43.5446 accepted 0  lowest_f -47.8452\n",
      "warning: basinhopping: local minimization failure\n",
      "basinhopping step 23: f -47.8452 trial_f -44.2004 accepted 0  lowest_f -47.8452\n",
      "warning: basinhopping: local minimization failure\n",
      "basinhopping step 24: f -47.8452 trial_f -42.2008 accepted 0  lowest_f -47.8452\n",
      "basinhopping step 25: f -47.8452 trial_f -43.2604 accepted 0  lowest_f -47.8452\n",
      "basinhopping step 26: f -47.8452 trial_f -42.1358 accepted 0  lowest_f -47.8452\n",
      "warning: basinhopping: local minimization failure\n",
      "basinhopping step 27: f -47.8452 trial_f -43.556 accepted 0  lowest_f -47.8452\n",
      "warning: basinhopping: local minimization failure\n",
      "basinhopping step 28: f -47.8452 trial_f -43.9186 accepted 0  lowest_f -47.8452\n",
      "warning: basinhopping: local minimization failure\n",
      "basinhopping step 29: f -47.8452 trial_f -43.0221 accepted 0  lowest_f -47.8452\n",
      "warning: basinhopping: local minimization failure\n",
      "basinhopping step 30: f -47.8452 trial_f -30.5505 accepted 0  lowest_f -47.8452\n"
     ]
    }
   ],
   "source": [
    "import numpy as np\n",
    "#first we need to import the package that contains basin hopping\n",
    "from scipy.optimize import basinhopping\n",
    "\n",
    "def LJ(r):\n",
    "    r6 = r**6\n",
    "    r12 = r6*r6\n",
    "    return 4*(1/r12 - 1/r6)\n",
    "\n",
    "\n",
    "\n",
    "def total_energy(positions):\n",
    "    E = 0\n",
    "    N_atom = int(len(positions)/3)\n",
    "    for i in range(N_atom-1):\n",
    "        for j in range(i+1, N_atom):\n",
    "            pos1 = positions[i*3:(i+1)*3]\n",
    "            pos2 = positions[j*3:(j+1)*3]\n",
    "            dist = np.linalg.norm(pos1-pos2)\n",
    "            E += LJ(dist)\n",
    "    return E\n",
    "            \n",
    "def init_pos(N, L=5):\n",
    "    return L*np.random.random_sample((N*3,))\n",
    "\n",
    "N_atom = 14\n",
    "pos = init_pos(N_atom)\n",
    "res = basinhopping(total_energy, pos, niter=30, T=1.5, stepsize=3.0, disp=True)"
   ]
  },
  {
   "cell_type": "code",
   "execution_count": 44,
   "metadata": {},
   "outputs": [
    {
     "data": {
      "image/png": "[encoded data removed]",
      "text/plain": [
       "<matplotlib.figure.Figure at 0x1e53c9691d0>"
      ]
     },
     "metadata": {},
     "output_type": "display_data"
    }
   ],
   "source": [
    "import matplotlib.pyplot as plt\n",
    "\n",
    "x = [3, 6, 9, 12, 15, 18, 21, 24, 27, 30, 33, 36, 39, 42, 45, 48, 51, 54, 57, 60, 63, 66, 69, 72, 75, 78, 81, 84, 87, 90]\n",
    "y = [-44.9546, -44.9546, -44.9546, -44.9546, -44.9546, -44.9546, -47.8452, -47.8452, -47.8452, -47.8452, -47.8452, -47.8452, -47.8452, -47.8452, -47.8452, -47.8452, -47.8452, -47.8452, -47.8452, -47.8452, -47.8452, -47.8452, -47.8452, -47.8452, -47.8452, -47.8452, -47.8452, -47.8452, -47.8452, -47.8452]\n",
    "\n",
    "plt.plot(x, y)\n",
    "plt.xlabel('Iterations')\n",
    "plt.ylabel('Energy')\n",
    "plt.title('Basin-Hopping Energy Minimums')\n",
    "plt.show()"
   ]
  },
  {
   "cell_type": "markdown",
   "metadata": {},
   "source": [
    "Once again this matches the Cambridge cluster database value of -47.845157.\n",
    "\n",
    "And finally for N_atom=19"
   ]
  },
  {
   "cell_type": "markdown",
   "metadata": {},
   "source": [
    "In conclusion, we have successfully minimized the Lennard-Jones potential for 3 different groupings of atoms. The results closely matched the Cambridge cluster database values for those number of atoms."
   ]
  },
  {
   "cell_type": "markdown",
   "metadata": {},
   "source": [
    "**References**\n",
    "\n",
    "a: \tLi, Z. and Scheraga, H. A., Monte Carlo-minimization approach to the multiple-minima problem in protein folding, Proc. Natl. Acad. Sci. USA, 1987, 84, 6611.\n",
    "\n",
    "b:\tWales, D J, and Doye J P K, Global Optimization by Basin-Hopping and the Lowest Energy Structures of Lennard-Jones Clusters Containing up to 110 Atoms. Journal of Physical Chemistry A, 1997, 101, 5111.\n"
   ]
  },
  {
   "cell_type": "code",
   "execution_count": null,
   "metadata": {
    "collapsed": true
   },
   "outputs": [],
   "source": []
  }
 ],
 "metadata": {
  "kernelspec": {
   "display_name": "Python 3",
   "language": "python",
   "name": "python3"
  },
  "language_info": {
   "codemirror_mode": {
    "name": "ipython",
    "version": 3
   },
   "file_extension": ".py",
   "mimetype": "text/x-python",
   "name": "python",
   "nbconvert_exporter": "python",
   "pygments_lexer": "ipython3",
   "version": "3.6.1"
  }
 },
 "nbformat": 4,
 "nbformat_minor": 2
}
