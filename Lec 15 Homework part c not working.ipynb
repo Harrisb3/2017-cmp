{
 "cells": [
  {
   "cell_type": "code",
   "execution_count": null,
   "metadata": {
    "collapsed": true
   },
   "outputs": [],
   "source": [
    "15.5 Homework (by 10 am Oct 19, 2017)¶\n",
    "a) Write a program that generates and prints out two random numbers between 1 and 6, to simulate the rolling of two dice.\n",
    "b) Modify your program to simulate the rolling of two dice a million times (N0) and count the number of times you get double six (N1). Calculate the probability of finding double six in your simulations (N1/N0)\n",
    "c) Write a code to generate random integers within [-5, 5], find the magic series of {a, c, m} [Don't use the built-in function in numpy]"
   ]
  },
  {
   "cell_type": "code",
   "execution_count": 31,
   "metadata": {},
   "outputs": [
    {
     "data": {
      "image/png": "[encoded data removed]",
      "text/plain": [
       "<matplotlib.figure.Figure at 0x226eb29a7b8>"
      ]
     },
     "metadata": {},
     "output_type": "display_data"
    },
    {
     "data": {
      "image/png": "[encoded data removed]",
      "text/plain": [
       "<matplotlib.figure.Figure at 0x226ed6568d0>"
      ]
     },
     "metadata": {},
     "output_type": "display_data"
    },
    {
     "name": "stdout",
     "output_type": "stream",
     "text": [
      "Part a) Dice roll result:  4 6\n",
      "Part b) Probablility of rolling two 6s : 0.055738\n"
     ]
    }
   ],
   "source": [
    "#Import stuff\n",
    "import random as rd\n",
    "import matplotlib.pyplot as plt\n",
    "\n",
    "#part a\n",
    "#Create two random number \"Dice\"\n",
    "DieA= rd.randint(1,6)\n",
    "DieB= rd.randint(1,6)\n",
    "\n",
    "N=[]\n",
    "count=0\n",
    "for I in range (1000000):\n",
    "    DieA= rd.randint(1,6)\n",
    "    DieB= rd.randint(1,6)\n",
    "    if DieA==6 and DieB==6:\n",
    "        N.append(DieA)\n",
    "        N.append(DieB)\n",
    "        count+=1\n",
    "\n",
    "Prob=int(len(N))/1000000\n",
    "\n",
    "#part c (Following along with Lecture example...)\n",
    "N = 100\n",
    "a = 150\n",
    "c = 105\n",
    "m = 7\n",
    "x = 1\n",
    "results = []\n",
    "\n",
    "for i in range(N):      \n",
    "    x = (a*x+c)%m\n",
    "    results.append(x)\n",
    "plt.plot(results,\"o\")\n",
    "plt.show()\n",
    "\n",
    "plt.hist(results)\n",
    "plt.show()\n",
    "  \n",
    "print (\"Part a) Dice roll result: \", DieA, DieB)    \n",
    "print (\"Part b) Probablility of rolling two 6s :\", Prob )\n"
   ]
  },
  {
   "cell_type": "code",
   "execution_count": null,
   "metadata": {
    "collapsed": true
   },
   "outputs": [],
   "source": []
  }
 ],
 "metadata": {
  "kernelspec": {
   "display_name": "Python 3",
   "language": "python",
   "name": "python3"
  },
  "language_info": {
   "codemirror_mode": {
    "name": "ipython",
    "version": 3
   },
   "file_extension": ".py",
   "mimetype": "text/x-python",
   "name": "python",
   "nbconvert_exporter": "python",
   "pygments_lexer": "ipython3",
   "version": "3.6.1"
  }
 },
 "nbformat": 4,
 "nbformat_minor": 2
}
