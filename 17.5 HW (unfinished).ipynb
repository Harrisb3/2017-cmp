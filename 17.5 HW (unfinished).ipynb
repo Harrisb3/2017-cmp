{
 "cells": [
  {
   "cell_type": "code",
   "execution_count": null,
   "metadata": {
    "collapsed": true
   },
   "outputs": [],
   "source": [
    "17.5 Homework¶\n",
    "Write a code to solve the minimum of 2D function with Monte Carlo method."
   ]
  },
  {
   "cell_type": "code",
   "execution_count": null,
   "metadata": {
    "collapsed": true
   },
   "outputs": [],
   "source": [
    "#Import stuff\n",
    "import numpy as np\n",
    "import matplotlib.pyplot as plt\n",
    "from mpl_toolkits.mplot3d import Axes3D\n",
    "import random as rd\n",
    "\n",
    "min=[]\n",
    "\n",
    "x_min, x_max = -2, 2 \n",
    "y_min, y_max = -2, 2\n",
    "def f2(x,y):\n",
    "    return 1/2*x**2 + 1/4*y**2\n",
    "\n",
    "nx = np.linspace(x_min,x_max,100)\n",
    "ny = np.linspace(y_min,y_max,100)\n",
    "\n",
    "x,y = np.meshgrid(nx,ny)\n",
    "\n",
    "def MC(N=1000000):\n",
    "    for i in range(N):\n",
    "        count=0\n",
    "        x=2*rd.random()\n",
    "        y=2*rd.random()\n",
    "        values.append(f(x,y))\n",
    "    return min()\n",
    "\n",
    "\n",
    "z = f2(x, y)\n",
    "fig = plt.figure()\n",
    "ax = fig.gca(projection='3d')\n",
    "ax.plot_surface(x,y,z, cmap='summer', alpha=0.8)\n",
    "cset = ax.contour(x,y,z, zdir='z', offset=0)\n",
    "ax.set_xlabel('X')\n",
    "ax.set_ylabel('Y')\n",
    "ax.set_zlabel('f')\n",
    "\n",
    "plt.show()\n",
    "print(\"Minimum value: \", int(sum(min)))"
   ]
  }
 ],
 "metadata": {
  "kernelspec": {
   "display_name": "Python 3",
   "language": "python",
   "name": "python3"
  },
  "language_info": {
   "codemirror_mode": {
    "name": "ipython",
    "version": 3
   },
   "file_extension": ".py",
   "mimetype": "text/x-python",
   "name": "python",
   "nbconvert_exporter": "python",
   "pygments_lexer": "ipython3",
   "version": "3.6.1"
  }
 },
 "nbformat": 4,
 "nbformat_minor": 2
}
