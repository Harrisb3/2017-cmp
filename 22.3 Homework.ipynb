{
 "cells": [
  {
   "cell_type": "code",
   "execution_count": null,
   "metadata": {
    "collapsed": true
   },
   "outputs": [],
   "source": [
    "22.3 Homework\n",
    "Check the following documentation and use the differential evolution method to perform optimization on LJ clusters \n",
    "https://docs.scipy.org/doc/scipy/reference/generated/scipy.optimize.differential_evolution.html#scipy.optimize.differential_evolution"
   ]
  },
  {
   "cell_type": "code",
   "execution_count": 4,
   "metadata": {},
   "outputs": [
    {
     "name": "stdout",
     "output_type": "stream",
     "text": [
      "Lj_3:       fun: 0.0\n",
      " message: 'Optimization terminated successfully.'\n",
      "    nfev: 94\n",
      "     nit: 1\n",
      " success: True\n",
      "       x: array([ 0.40414419,  1.22004792,  1.0543204 ])\n"
     ]
    }
   ],
   "source": [
    "# for 1 atom\n",
    "\n",
    "import numpy as np\n",
    "import scipy.optimize as so\n",
    "\n",
    "def LJ(r):\n",
    "    r6 = r**6\n",
    "    r12 = r6*r6\n",
    "    return 4*(1/r12 - 1/r6)\n",
    "\n",
    "def total_energy(positions):\n",
    "    E = 0\n",
    "    N_atom = int(len(positions)/3)\n",
    "\n",
    "    for i in range(N_atom-1):\n",
    "        for j in range(i+1, N_atom):\n",
    "            pos1 = positions[i*3:(i+1)*3]\n",
    "            pos2 = positions[j*3:(j+1)*3]\n",
    "            dist = np.linalg.norm(pos1-pos2)\n",
    "            E += LJ(dist)\n",
    "    return E\n",
    "            \n",
    "def init_pos(N, L=5):\n",
    "    return L*np.random.random_sample((N*3,))\n",
    "Boundary = [(0,2), (0,2), (0,2) ]*1\n",
    "DE=so.differential_evolution(total_energy, Boundary)\n",
    "\n",
    "print (\"Lj_1: \", DE)"
   ]
  },
  {
   "cell_type": "code",
   "execution_count": 5,
   "metadata": {},
   "outputs": [
    {
     "name": "stdout",
     "output_type": "stream",
     "text": [
      "Lj_2:       fun: -0.99999999999999312\n",
      "     jac: array([  8.21565038e-07,  -4.44089210e-07,   8.88178420e-08,\n",
      "        -5.55111512e-07,   6.21724894e-07,  -1.55431223e-07])\n",
      " message: 'Optimization terminated successfully.'\n",
      "    nfev: 4528\n",
      "     nit: 49\n",
      " success: True\n",
      "       x: array([ 1.00029139,  0.84657357,  1.72974423,  1.87691022,  0.163231  ,\n",
      "        1.88627971])\n"
     ]
    }
   ],
   "source": [
    "#Again for 2\n",
    "\n",
    "import numpy as np\n",
    "import scipy.optimize as so\n",
    "\n",
    "def LJ(r):\n",
    "    r6 = r**6\n",
    "    r12 = r6*r6\n",
    "    return 4*(1/r12 - 1/r6)\n",
    "\n",
    "def total_energy(positions):\n",
    "    E = 0\n",
    "    N_atom = int(len(positions)/3)\n",
    "\n",
    "    for i in range(N_atom-1):\n",
    "        for j in range(i+1, N_atom):\n",
    "            pos1 = positions[i*3:(i+1)*3]\n",
    "            pos2 = positions[j*3:(j+1)*3]\n",
    "            dist = np.linalg.norm(pos1-pos2)\n",
    "            E += LJ(dist)\n",
    "    return E\n",
    "            \n",
    "def init_pos(N, L=5):\n",
    "    return L*np.random.random_sample((N*3,))\n",
    "Boundary = [(0,2), (0,2), (0,2) ]*2\n",
    "DE=so.differential_evolution(total_energy, Boundary)\n",
    "\n",
    "print (\"Lj_2: \", DE)"
   ]
  },
  {
   "cell_type": "code",
   "execution_count": 6,
   "metadata": {},
   "outputs": [
    {
     "name": "stdout",
     "output_type": "stream",
     "text": [
      "Lj_3:       fun: -2.9999999999960774\n",
      "     jac: array([ -1.09245946e-05,  -1.01696429e-05,   1.95399252e-06,\n",
      "         1.57651669e-05,  -2.35367281e-06,  -2.44249065e-06,\n",
      "        -3.95239397e-06,   1.33670852e-05,   5.77315973e-07])\n",
      " message: 'Optimization terminated successfully.'\n",
      "    nfev: 51640\n",
      "     nit: 381\n",
      " success: True\n",
      "       x: array([ 1.72725864,  0.55721146,  1.38322713,  0.62728576,  0.42329373,\n",
      "        1.56224122,  1.06160141,  1.4553616 ,  1.48396555])\n"
     ]
    }
   ],
   "source": [
    "#Again for 3 atoms \n",
    "\n",
    "import numpy as np\n",
    "import scipy.optimize as so\n",
    "\n",
    "def LJ(r):\n",
    "    r6 = r**6\n",
    "    r12 = r6*r6\n",
    "    return 4*(1/r12 - 1/r6)\n",
    "\n",
    "def total_energy(positions):\n",
    "    E = 0\n",
    "    N_atom = int(len(positions)/3)\n",
    "\n",
    "    for i in range(N_atom-1):\n",
    "        for j in range(i+1, N_atom):\n",
    "            pos1 = positions[i*3:(i+1)*3]\n",
    "            pos2 = positions[j*3:(j+1)*3]\n",
    "            dist = np.linalg.norm(pos1-pos2)\n",
    "            E += LJ(dist)\n",
    "    return E\n",
    "            \n",
    "def init_pos(N, L=5):\n",
    "    return L*np.random.random_sample((N*3,))\n",
    "Boundary = [(0,2), (0,2), (0,2) ]*3\n",
    "DE=so.differential_evolution(total_energy, Boundary)\n",
    "\n",
    "print (\"Lj_3: \", DE)"
   ]
  },
  {
   "cell_type": "code",
   "execution_count": 7,
   "metadata": {},
   "outputs": [
    {
     "name": "stdout",
     "output_type": "stream",
     "text": [
      "Lj_4:       fun: -5.9999999994219388\n",
      "     jac: array([ -1.03916875e-05,  -1.90691907e-04,  -5.12478948e-05,\n",
      "         1.68665082e-04,   5.59552404e-06,   5.27577981e-05,\n",
      "        -1.47437618e-04,   3.43725048e-05,  -1.42108547e-06,\n",
      "        -9.68114477e-06,   1.51967328e-04,   1.06581410e-06])\n",
      " message: 'Optimization terminated successfully.'\n",
      "    nfev: 126529\n",
      "     nit: 701\n",
      " success: True\n",
      "       x: array([ 0.76205892,  1.44974794,  1.54781357,  1.72264537,  1.11347908,\n",
      "        1.07440003,  0.73993685,  0.76579395,  0.65807534,  1.09554581,\n",
      "        0.38300221,  1.65152152])\n"
     ]
    }
   ],
   "source": [
    "#Again for 4 atoms \n",
    "\n",
    "import numpy as np\n",
    "import scipy.optimize as so\n",
    "\n",
    "def LJ(r):\n",
    "    r6 = r**6\n",
    "    r12 = r6*r6\n",
    "    return 4*(1/r12 - 1/r6)\n",
    "\n",
    "def total_energy(positions):\n",
    "    E = 0\n",
    "    N_atom = int(len(positions)/3)\n",
    "\n",
    "    for i in range(N_atom-1):\n",
    "        for j in range(i+1, N_atom):\n",
    "            pos1 = positions[i*3:(i+1)*3]\n",
    "            pos2 = positions[j*3:(j+1)*3]\n",
    "            dist = np.linalg.norm(pos1-pos2)\n",
    "            E += LJ(dist)\n",
    "    return E\n",
    "            \n",
    "def init_pos(N, L=5):\n",
    "    return L*np.random.random_sample((N*3,))\n",
    "Boundary = [(0,2), (0,2), (0,2) ]*4\n",
    "DE=so.differential_evolution(total_energy, Boundary)\n",
    "\n",
    "print (\"Lj_4: \", DE)"
   ]
  },
  {
   "cell_type": "code",
   "execution_count": null,
   "metadata": {
    "collapsed": true
   },
   "outputs": [],
   "source": []
  }
 ],
 "metadata": {
  "kernelspec": {
   "display_name": "Python 3",
   "language": "python",
   "name": "python3"
  },
  "language_info": {
   "codemirror_mode": {
    "name": "ipython",
    "version": 3
   },
   "file_extension": ".py",
   "mimetype": "text/x-python",
   "name": "python",
   "nbconvert_exporter": "python",
   "pygments_lexer": "ipython3",
   "version": "3.6.1"
  }
 },
 "nbformat": 4,
 "nbformat_minor": 2
}
