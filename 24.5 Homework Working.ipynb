{
 "cells": [
  {
   "cell_type": "markdown",
   "metadata": {},
   "source": [
    "24.5 Homework\n",
    "\n",
    "Choose a dataset from UC Irvine Machine Learning Repository! and apply the Kneighbour algorithm to do classification."
   ]
  },
  {
   "cell_type": "code",
   "execution_count": 5,
   "metadata": {},
   "outputs": [
    {
     "name": "stdout",
     "output_type": "stream",
     "text": [
      "The accuracy for cross validation is 66.4%\n",
      "The accuracy for Neighbour is 68.9%\n"
     ]
    },
    {
     "data": {
      "image/png": "[encoded data removed]",
      "text/plain": [
       "<matplotlib.figure.Figure at 0x5158da0>"
      ]
     },
     "metadata": {},
     "output_type": "display_data"
    }
   ],
   "source": [
    "from sklearn.datasets import load_wine\n",
    "\n",
    "import numpy as np\n",
    "import matplotlib.pyplot as plt\n",
    "from sklearn.cross_validation import cross_val_score\n",
    "from sklearn.neighbors import KNeighborsClassifier\n",
    "from sklearn.cross_validation import train_test_split\n",
    "\n",
    "dataset = load_wine()\n",
    "\n",
    "X = dataset.data\n",
    "Y = dataset.target\n",
    "\n",
    "\n",
    "\n",
    "\n",
    "X_train, X_test, y_train, y_test = train_test_split(X, Y, random_state=10)\n",
    "\n",
    "\n",
    "estimator.fit(X_train, y_train)\n",
    "y_predicted = estimator.predict(X_test)\n",
    "\n",
    "\n",
    "scores = cross_val_score(estimator, X, Y, scoring = 'accuracy')\n",
    "average_accuracy = np.mean(scores)*100\n",
    "print(\"The accuracy for cross validation is {0:.1f}%\".format(average_accuracy))\n",
    "\n",
    "accuracy = np.mean(y_test == y_predicted) *100\n",
    "print(\"The accuracy for Neighbour is {0:.1f}%\".format(accuracy))\n",
    "\n",
    "avg_scores = []\n",
    "all_scores = []\n",
    "parameters = list(range(1,1000))\n",
    "for n_neighbors in parameters:\n",
    "    estimator = KNeighborsClassifier()\n",
    "    scores = cross_val_score(estimator, X, Y, scoring = 'accuracy')\n",
    "    avg_scores.append(np.mean(scores))\n",
    "    all_scores.append(scores)\n",
    "    \n",
    "plt.plot(parameters, avg_scores, '-o')\n",
    "plt.xlabel('N-Neighbour')\n",
    "plt.ylabel('Accuracy')\n",
    "plt.ylim([0.4,1.0])\n",
    "\n",
    "plt.show()"
   ]
  },
  {
   "cell_type": "code",
   "execution_count": null,
   "metadata": {
    "collapsed": true
   },
   "outputs": [],
   "source": []
  }
 ],
 "metadata": {
  "kernelspec": {
   "display_name": "Python 3",
   "language": "python",
   "name": "python3"
  },
  "language_info": {
   "codemirror_mode": {
    "name": "ipython",
    "version": 3
   },
   "file_extension": ".py",
   "mimetype": "text/x-python",
   "name": "python",
   "nbconvert_exporter": "python",
   "pygments_lexer": "ipython3",
   "version": "3.6.1"
  }
 },
 "nbformat": 4,
 "nbformat_minor": 2
}
